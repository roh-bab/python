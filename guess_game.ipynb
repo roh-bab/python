{
 "cells": [
  {
   "cell_type": "code",
   "execution_count": 12,
   "metadata": {},
   "outputs": [
    {
     "name": "stdout",
     "output_type": "stream",
     "text": [
      "9\n",
      "You are above the number\n",
      "7\n",
      "You are above the number\n",
      "5\n",
      "You are above the number\n",
      "5\n",
      "You are above the number\n",
      "4\n",
      "Congrats!!! you win\n",
      "number of guesses: 5\n"
     ]
    }
   ],
   "source": [
    "import random\n",
    "\n",
    "random_number = random.randint(1,10)\n",
    "guess = 0\n",
    "while(True):\n",
    "    guess=guess+1\n",
    "    number = input(\"Guess a number between 1 to 10 \")\n",
    "    print(number)\n",
    "    if number.isdigit():\n",
    "        number = int(number)\n",
    "        if number<=0:\n",
    "            print(\"Please guess a number between 1 to 10 \")\n",
    "            continue\n",
    "    else:\n",
    "       print(\"Please guess a number between 1 to 10 \") \n",
    "       continue\n",
    "    if number == random_number:\n",
    "        print(\"Congrats!!! you win\")\n",
    "        break\n",
    "    elif number>random_number:\n",
    "        print(\"You are above the number\")\n",
    "    else:\n",
    "        print(\"You are below the number\")\n",
    "print(\"number of guesses: \" +str(guess))   \n",
    "\n",
    "\n",
    "    \n",
    "\n",
    "\n",
    "\n",
    "\n"
   ]
  }
 ],
 "metadata": {
  "kernelspec": {
   "display_name": "Python 3",
   "language": "python",
   "name": "python3"
  },
  "language_info": {
   "codemirror_mode": {
    "name": "ipython",
    "version": 3
   },
   "file_extension": ".py",
   "mimetype": "text/x-python",
   "name": "python",
   "nbconvert_exporter": "python",
   "pygments_lexer": "ipython3",
   "version": "3.12.4"
  }
 },
 "nbformat": 4,
 "nbformat_minor": 2
}
