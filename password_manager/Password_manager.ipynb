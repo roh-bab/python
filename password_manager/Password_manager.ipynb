{
 "cells": [
  {
   "cell_type": "code",
   "execution_count": 11,
   "metadata": {},
   "outputs": [
    {
     "name": "stdout",
     "output_type": "stream",
     "text": [
      "b'FtEqqOCSnpQsryf1bqY56iFsCLWFmE3yjjltGHAEUro='\n",
      "<cryptography.fernet.Fernet object at 0x000001A87FBF52B0>\n",
      "Do you want to view or add(Type 'view','add', 'end' to exit)\n",
      "\n",
      "Invalid password\n",
      "Do you want to view or add(Type 'view','add', 'end' to exit)\n",
      "view\n",
      "AccountName mohit Password npci\n",
      "Do you want to view or add(Type 'view','add', 'end' to exit)\n",
      "add\n",
      "inside add\n",
      "Enter account_name: \n",
      "Enter password: \n",
      "Do you want to view or add(Type 'view','add', 'end' to exit)\n",
      "\n",
      "Invalid password\n",
      "Do you want to view or add(Type 'view','add', 'end' to exit)\n",
      "view\n",
      "AccountName mohit Password npci\n",
      "AccountName  Password \n",
      "Do you want to view or add(Type 'view','add', 'end' to exit)\n",
      "end\n",
      "Exiting\n"
     ]
    }
   ],
   "source": [
    "from cryptography.fernet import Fernet #to encrypt, run pip install cryptography first\n",
    "import os # to check file size\n",
    "\n",
    "'''\n",
    "def writeKey(): # generated the key once so now commented\n",
    "    key=Fernet.generate_key()\n",
    "    with open('key.key','wb') as key_file:\n",
    "        key_file.write(key)\n",
    "writeKey()'''\n",
    "\n",
    "def readKey(): #read the data from key.key file\n",
    "    readFile = open('key.key','rb')\n",
    "    key = readFile.read()\n",
    "    readFile.close()\n",
    "    return key\n",
    "\n",
    "key = readKey()\n",
    "fer = Fernet(key) #converting the plain text to ciphertext \n",
    "\n",
    "def view(): # functin to view stored passwords\n",
    "    if os.stat('passwords.txt').st_size == 0:\n",
    "        print(\"No passwords saved\")\n",
    "        return\n",
    "    with open('passwords.txt','r') as S:\n",
    "        for line in S.readlines():\n",
    "            data = line.rstrip()\n",
    "            user,passw = data.split('|')\n",
    "            print('AccountName',user,'Password',fer.decrypt(passw).decode()) #can't concat byte format so changing\n",
    "\n",
    "def add(): # function to add passwords\n",
    "    print('inside add')\n",
    "    name = input(print(\"Enter account_name: \"))\n",
    "    password = input(print(\"Enter password: \"))\n",
    "\n",
    "    with open('passwords.txt','a') as S:\n",
    "        S.write(name+'|'+ fer.encrypt(password.encode()).decode()+'\\n') \n",
    "\n",
    "while(True):\n",
    "    task = input(print(\"Do you want to view or add(Type 'view','add', 'end' to exit)\"))\n",
    "    print(task)\n",
    "    if task.lower() == 'view':\n",
    "        view()\n",
    "    elif task.lower() == 'add':\n",
    "        add()\n",
    "    elif task.lower() == 'end':\n",
    "        print(\"Exiting...\")\n",
    "        break\n",
    "    else:\n",
    "        print(\"Invalid password\")"
   ]
  },
  {
   "cell_type": "code",
   "execution_count": 9,
   "metadata": {},
   "outputs": [
    {
     "name": "stdout",
     "output_type": "stream",
     "text": [
      "Collecting cryptography\n",
      "  Downloading cryptography-42.0.8-cp39-abi3-win_amd64.whl.metadata (5.4 kB)\n",
      "Collecting cffi>=1.12 (from cryptography)\n",
      "  Downloading cffi-1.16.0-cp312-cp312-win_amd64.whl.metadata (1.5 kB)\n",
      "Collecting pycparser (from cffi>=1.12->cryptography)\n",
      "  Downloading pycparser-2.22-py3-none-any.whl.metadata (943 bytes)\n",
      "Downloading cryptography-42.0.8-cp39-abi3-win_amd64.whl (2.9 MB)\n",
      "   ---------------------------------------- 0.0/2.9 MB ? eta -:--:--\n",
      "   ---------------------------------------- 0.0/2.9 MB ? eta -:--:--\n",
      "    --------------------------------------- 0.0/2.9 MB 653.6 kB/s eta 0:00:05\n",
      "   - -------------------------------------- 0.1/2.9 MB 1.1 MB/s eta 0:00:03\n",
      "   --- ------------------------------------ 0.2/2.9 MB 1.9 MB/s eta 0:00:02\n",
      "   ---- ----------------------------------- 0.4/2.9 MB 1.9 MB/s eta 0:00:02\n",
      "   ------- -------------------------------- 0.5/2.9 MB 2.2 MB/s eta 0:00:02\n",
      "   --------- ------------------------------ 0.7/2.9 MB 2.5 MB/s eta 0:00:01\n",
      "   ----------- ---------------------------- 0.8/2.9 MB 2.4 MB/s eta 0:00:01\n",
      "   ------------- -------------------------- 1.0/2.9 MB 2.5 MB/s eta 0:00:01\n",
      "   ---------------- ----------------------- 1.2/2.9 MB 2.6 MB/s eta 0:00:01\n",
      "   ------------------- -------------------- 1.4/2.9 MB 2.8 MB/s eta 0:00:01\n",
      "   -------------------- ------------------- 1.5/2.9 MB 2.8 MB/s eta 0:00:01\n",
      "   ---------------------- ----------------- 1.6/2.9 MB 2.7 MB/s eta 0:00:01\n",
      "   ------------------------- -------------- 1.8/2.9 MB 2.9 MB/s eta 0:00:01\n",
      "   --------------------------- ------------ 2.0/2.9 MB 2.9 MB/s eta 0:00:01\n",
      "   ----------------------------- ---------- 2.1/2.9 MB 2.9 MB/s eta 0:00:01\n",
      "   ------------------------------- -------- 2.3/2.9 MB 3.0 MB/s eta 0:00:01\n",
      "   --------------------------------- ------ 2.4/2.9 MB 3.0 MB/s eta 0:00:01\n",
      "   ----------------------------------- ---- 2.5/2.9 MB 2.9 MB/s eta 0:00:01\n",
      "   ------------------------------------ --- 2.7/2.9 MB 2.9 MB/s eta 0:00:01\n",
      "   -------------------------------------- - 2.8/2.9 MB 2.9 MB/s eta 0:00:01\n",
      "   ---------------------------------------- 2.9/2.9 MB 2.8 MB/s eta 0:00:00\n",
      "Downloading cffi-1.16.0-cp312-cp312-win_amd64.whl (181 kB)\n",
      "   ---------------------------------------- 0.0/182.0 kB ? eta -:--:--\n",
      "   ------------------------------- -------- 143.4/182.0 kB 4.3 MB/s eta 0:00:01\n",
      "   ---------------------------------------- 182.0/182.0 kB 2.8 MB/s eta 0:00:00\n",
      "Downloading pycparser-2.22-py3-none-any.whl (117 kB)\n",
      "   ---------------------------------------- 0.0/117.6 kB ? eta -:--:--\n",
      "   ---------------------------------------- 117.6/117.6 kB 3.5 MB/s eta 0:00:00\n",
      "Installing collected packages: pycparser, cffi, cryptography\n",
      "Successfully installed cffi-1.16.0 cryptography-42.0.8 pycparser-2.22\n",
      "Note: you may need to restart the kernel to use updated packages.\n"
     ]
    },
    {
     "name": "stderr",
     "output_type": "stream",
     "text": [
      "\n",
      "[notice] A new release of pip is available: 24.0 -> 24.1.1\n",
      "[notice] To update, run: python.exe -m pip install --upgrade pip\n"
     ]
    }
   ],
   "source": [
    "pip install cryptography"
   ]
  }
 ],
 "metadata": {
  "kernelspec": {
   "display_name": "Python 3",
   "language": "python",
   "name": "python3"
  },
  "language_info": {
   "codemirror_mode": {
    "name": "ipython",
    "version": 3
   },
   "file_extension": ".py",
   "mimetype": "text/x-python",
   "name": "python",
   "nbconvert_exporter": "python",
   "pygments_lexer": "ipython3",
   "version": "3.12.4"
  }
 },
 "nbformat": 4,
 "nbformat_minor": 2
}
