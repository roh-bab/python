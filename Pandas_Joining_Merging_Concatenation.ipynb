{
  "nbformat": 4,
  "nbformat_minor": 0,
  "metadata": {
    "colab": {
      "provenance": []
    },
    "kernelspec": {
      "name": "python3",
      "display_name": "Python 3"
    },
    "language_info": {
      "name": "python"
    }
  },
  "cells": [
    {
      "cell_type": "code",
      "execution_count": 2,
      "metadata": {
        "id": "aoRGGMw2n6p4"
      },
      "outputs": [],
      "source": [
        "import pandas as pd"
      ]
    },
    {
      "cell_type": "code",
      "source": [
        "try:\n",
        "  customers = pd.read_excel('customers.xlsx')\n",
        "  products = pd.read_excel('products.xlsx')\n",
        "  purchases = pd.read_excel('purchases.xlsx')\n",
        "except FileNotFoundError as e:\n",
        "  print(e)"
      ],
      "metadata": {
        "id": "OwPv4QvkuZ05"
      },
      "execution_count": 3,
      "outputs": []
    },
    {
      "cell_type": "code",
      "source": [
        "print('Concatenating a DataFrame. It is similar to union in sql. It is useful when we have same column or index')\n",
        "print('When concatenating along axis 0 . Pandas alligns the DataFrame based on their column\\n')\n",
        "combined_df = pd.concat([customers,products])\n",
        "print(combined_df)"
      ],
      "metadata": {
        "colab": {
          "base_uri": "https://localhost:8080/"
        },
        "id": "0RedGzdgucy_",
        "outputId": "4a8e940d-5456-4e65-f6fc-875edce368fc"
      },
      "execution_count": 7,
      "outputs": [
        {
          "output_type": "stream",
          "name": "stdout",
          "text": [
            "Concatenating a DataFrame. It is similar to union in sql. It is useful when we have same column or index\n",
            "When concatenating along axis 0 . Pandas alligns the DataFrame based on their column\n",
            "\n",
            "    id first_name   last_name                      email  gender  street_num  \\\n",
            "0    1     Romain   Southcott  rsouthcott0@clickbank.net    Male         1.0   \n",
            "1    2     Cosimo   Molyneaux      cmolyneaux1@wiley.com    Male         NaN   \n",
            "2    3      Bambi     Westrip     bwestrip2@symantec.com  Female      4057.0   \n",
            "3    4     Roarke  Pankettman     rpankettman3@wiley.com    Male        74.0   \n",
            "4    5    Mikaela    Althorpe           malthorpe4@51.la     NaN         NaN   \n",
            "..  ..        ...         ...                        ...     ...         ...   \n",
            "55  56        NaN         NaN                        NaN     NaN         NaN   \n",
            "56  57        NaN         NaN                        NaN     NaN         NaN   \n",
            "57  58        NaN         NaN                        NaN     NaN         NaN   \n",
            "58  59        NaN         NaN                        NaN     NaN         NaN   \n",
            "59  60        NaN         NaN                        NaN     NaN         NaN   \n",
            "\n",
            "   street_name street_suffix         city       state  postcode  Unnamed: 0  \\\n",
            "0    Trailsway          Road    San Diego  California   92127.0         NaN   \n",
            "1          NaN           NaN      El Paso       Texas       NaN         NaN   \n",
            "2     Arkansas        Circle  San Antonio       Texas   78220.0         NaN   \n",
            "3         Debs         Point      Memphis   Tennessee   38150.0         NaN   \n",
            "4          2nd         Drive          NaN         NaN   83732.0         NaN   \n",
            "..         ...           ...          ...         ...       ...         ...   \n",
            "55         NaN           NaN          NaN         NaN       NaN        55.0   \n",
            "56         NaN           NaN          NaN         NaN       NaN        56.0   \n",
            "57         NaN           NaN          NaN         NaN       NaN        57.0   \n",
            "58         NaN           NaN          NaN         NaN       NaN        58.0   \n",
            "59         NaN           NaN          NaN         NaN       NaN        59.0   \n",
            "\n",
            "                          product    cost   company  \n",
            "0                             NaN     NaN       NaN  \n",
            "1                             NaN     NaN       NaN  \n",
            "2                             NaN     NaN       NaN  \n",
            "3                             NaN     NaN       NaN  \n",
            "4                             NaN     NaN       NaN  \n",
            "..                            ...     ...       ...  \n",
            "55                  Peach - Fresh  $20.53     Zazio  \n",
            "56            Muffin Hinge - 211n  $68.63  Fanoodle  \n",
            "57             Bar Bran Honey Nut  $73.05    Yakijo  \n",
            "58  Nut - Almond, Blanched, Whole  $74.28     Eazzy  \n",
            "59       Table Cloth 90x90 Colour  $41.22     Quinu  \n",
            "\n",
            "[1060 rows x 15 columns]\n"
          ]
        }
      ]
    },
    {
      "cell_type": "code",
      "source": [
        "print('Concatenating DataFrames along axis 1 . Pandas allign the DataFrames based on rows.\\nIf two DataFrames have similar index then their colums will be placed side by side.\\nIf indexes don''t match then new rows are created to accomodate existing date filling NaN in missing entries')\n",
        "combined_df = pd.concat([customers,purchases],axis = 1)\n",
        "print(combined_df.head(5))"
      ],
      "metadata": {
        "colab": {
          "base_uri": "https://localhost:8080/"
        },
        "id": "0P8sO7uexxxf",
        "outputId": "a1af8391-19f5-41ee-d04b-ef0b2bcb6c6e"
      },
      "execution_count": 13,
      "outputs": [
        {
          "output_type": "stream",
          "name": "stdout",
          "text": [
            "Concatenating DataFrames along axis 1 . Pandas allign the DataFrames based on rows.\n",
            "If two DataFrames have similar index then their colums will be placed side by side.\n",
            "If indexes dont match then new rows are created to accomodate existing date filling NaN in missing entries\n",
            "    id first_name   last_name                      email  gender  street_num  \\\n",
            "0  1.0     Romain   Southcott  rsouthcott0@clickbank.net    Male         1.0   \n",
            "1  2.0     Cosimo   Molyneaux      cmolyneaux1@wiley.com    Male         NaN   \n",
            "2  3.0      Bambi     Westrip     bwestrip2@symantec.com  Female      4057.0   \n",
            "3  4.0     Roarke  Pankettman     rpankettman3@wiley.com    Male        74.0   \n",
            "4  5.0    Mikaela    Althorpe           malthorpe4@51.la     NaN         NaN   \n",
            "\n",
            "  street_name street_suffix         city       state  postcode  Unnamed: 0  \\\n",
            "0   Trailsway          Road    San Diego  California   92127.0           0   \n",
            "1         NaN           NaN      El Paso       Texas       NaN           1   \n",
            "2    Arkansas        Circle  San Antonio       Texas   78220.0           2   \n",
            "3        Debs         Point      Memphis   Tennessee   38150.0           3   \n",
            "4         2nd         Drive          NaN         NaN   83732.0           4   \n",
            "\n",
            "   id           purch_date  customer_num  product_num  amount     paid  \n",
            "0   1  2019-01-03 00:00:00           823           27      12  $568.92  \n",
            "1   2  2019-01-03 00:00:00           606           28      14  $395.36  \n",
            "2   3  2019-01-03 00:00:00           955            9      17  $510.17  \n",
            "3   4  2019-01-03 00:00:00           577           19       3   $68.49  \n",
            "4   5  2019-01-03 00:00:00           429            8      18  $759.42  \n"
          ]
        }
      ]
    },
    {
      "cell_type": "code",
      "source": [
        "print('Merging in Pandas is similar to sql joins and is used to combine DataFrames based on one or more keys.\\nIt is useful when you need to combine data that share column columns or indices.\\n')\n",
        "print('Inner Join')\n",
        "print('If we want to merge the table customers and purchases based on the column ''id'' and only return the rows where id is matched')\n",
        "joined_df = pd.merge(customers,purchases,how='inner',on = 'id')\n",
        "print(joined_df.head(2))\n",
        "print('\\n Left Join- This merges the Customers and Purchase DataFrames,\\n keeping all rows from the Customers DataFrame (left DataFrame)\\n and adding columns from Purchase where id values match. If there is nomatch, NaN is used.')\n",
        "joined_df = pd.merge(customers,purchases,how='left',on = 'id')\n",
        "print(joined_df)\n",
        "print('\\nright join')\n",
        "joined_df = pd.merge(customers,purchases,how='right',on = 'id')\n",
        "print(joined_df)\n",
        "\n",
        "print('If two datasets or tables conatains a same column then in the merge method ''suffix'' should be provided to tell them apart\\n eg - suffixes=(''_cust'', ''_pur'')')"
      ],
      "metadata": {
        "colab": {
          "base_uri": "https://localhost:8080/"
        },
        "id": "7kQdoCBx22hN",
        "outputId": "439baa5b-bf16-4b05-ae0f-d7e54bb846be"
      },
      "execution_count": 36,
      "outputs": [
        {
          "output_type": "stream",
          "name": "stdout",
          "text": [
            "Merging in Pandas is similar to sql joins and is used to combine DataFrames based on one or more keys.\n",
            "It is useful when you need to combine data that share column columns or indices.\n",
            "\n",
            "Inner Join\n",
            "If we want to merge the table customers and purchases based on the column id and only return the rows where id is matched\n",
            "   id first_name  last_name                      email gender  street_num  \\\n",
            "0   1     Romain  Southcott  rsouthcott0@clickbank.net   Male         1.0   \n",
            "1   2     Cosimo  Molyneaux      cmolyneaux1@wiley.com   Male         NaN   \n",
            "\n",
            "  street_name street_suffix       city       state  postcode  Unnamed: 0  \\\n",
            "0   Trailsway          Road  San Diego  California   92127.0           0   \n",
            "1         NaN           NaN    El Paso       Texas       NaN           1   \n",
            "\n",
            "            purch_date  customer_num  product_num  amount     paid  \n",
            "0  2019-01-03 00:00:00           823           27      12  $568.92  \n",
            "1  2019-01-03 00:00:00           606           28      14  $395.36  \n",
            "\n",
            " Left Join- This merges the Customers and Purchase DataFrames,\n",
            " keeping all rows from the Customers DataFrame (left DataFrame)\n",
            " and adding columns from Purchase where id values match. If there is nomatch, NaN is used.\n",
            "       id first_name    last_name                           email  gender  \\\n",
            "0       1     Romain    Southcott       rsouthcott0@clickbank.net    Male   \n",
            "1       2     Cosimo    Molyneaux           cmolyneaux1@wiley.com    Male   \n",
            "2       3      Bambi      Westrip          bwestrip2@symantec.com  Female   \n",
            "3       4     Roarke   Pankettman          rpankettman3@wiley.com    Male   \n",
            "4       5    Mikaela     Althorpe                malthorpe4@51.la     NaN   \n",
            "..    ...        ...          ...                             ...     ...   \n",
            "995   996    Merrili        Alman            malmanrn@cornell.edu  Female   \n",
            "996   997    Winonah       Heckle               whecklero@fc2.com  Female   \n",
            "997   998      Tobit         Birt                             NaN    Male   \n",
            "998   999     Issiah  Standbrooke  istandbrookerq@yellowpages.com    Male   \n",
            "999  1000     Elmore       Malpas                             NaN    Male   \n",
            "\n",
            "     street_num street_name street_suffix          city         state  \\\n",
            "0           1.0   Trailsway          Road     San Diego    California   \n",
            "1           NaN         NaN           NaN       El Paso         Texas   \n",
            "2        4057.0    Arkansas        Circle   San Antonio         Texas   \n",
            "3          74.0        Debs         Point       Memphis     Tennessee   \n",
            "4           NaN         2nd         Drive           NaN           NaN   \n",
            "..          ...         ...           ...           ...           ...   \n",
            "995         0.0    Thompson           Way       Reading  Pennsylvania   \n",
            "996       701.0     Rowland          Hill  Indianapolis       Indiana   \n",
            "997         2.0       Basil          Road     Waterbury   Connecticut   \n",
            "998         NaN     Kenwood         Drive      Savannah       Georgia   \n",
            "999       205.0     Farwell          Park       Atlanta       Georgia   \n",
            "\n",
            "     postcode  Unnamed: 0           purch_date  customer_num  product_num  \\\n",
            "0     92127.0           0  2019-01-03 00:00:00           823           27   \n",
            "1         NaN           1  2019-01-03 00:00:00           606           28   \n",
            "2     78220.0           2  2019-01-03 00:00:00           955            9   \n",
            "3     38150.0           3  2019-01-03 00:00:00           577           19   \n",
            "4     83732.0           4  2019-01-03 00:00:00           429            8   \n",
            "..        ...         ...                  ...           ...          ...   \n",
            "995   19610.0         995  2019-06-04 00:00:00           198           20   \n",
            "996   46278.0         996  2019-06-04 00:00:00            96           27   \n",
            "997    6721.0         997  2019-06-04 00:00:00           181            7   \n",
            "998   31405.0         998  2019-06-04 00:00:00           951           54   \n",
            "999   30386.0         999  2019-06-04 00:00:00           435           20   \n",
            "\n",
            "     amount       paid  \n",
            "0        12    $568.92  \n",
            "1        14    $395.36  \n",
            "2        17    $510.17  \n",
            "3         3     $68.49  \n",
            "4        18    $759.42  \n",
            "..      ...        ...  \n",
            "995       7    $609.35  \n",
            "996      14    $663.74  \n",
            "997       2     $27.66  \n",
            "998       4     $87.68  \n",
            "999      18  $1,143.90  \n",
            "\n",
            "[1000 rows x 17 columns]\n",
            "\n",
            "right join\n",
            "        id first_name   last_name                      email  gender  \\\n",
            "0        1     Romain   Southcott  rsouthcott0@clickbank.net    Male   \n",
            "1        2     Cosimo   Molyneaux      cmolyneaux1@wiley.com    Male   \n",
            "2        3      Bambi     Westrip     bwestrip2@symantec.com  Female   \n",
            "3        4     Roarke  Pankettman     rpankettman3@wiley.com    Male   \n",
            "4        5    Mikaela    Althorpe           malthorpe4@51.la     NaN   \n",
            "...    ...        ...         ...                        ...     ...   \n",
            "5995  5996        NaN         NaN                        NaN     NaN   \n",
            "5996  5997        NaN         NaN                        NaN     NaN   \n",
            "5997  5998        NaN         NaN                        NaN     NaN   \n",
            "5998  5999        NaN         NaN                        NaN     NaN   \n",
            "5999  6000        NaN         NaN                        NaN     NaN   \n",
            "\n",
            "      street_num street_name street_suffix         city       state  postcode  \\\n",
            "0            1.0   Trailsway          Road    San Diego  California   92127.0   \n",
            "1            NaN         NaN           NaN      El Paso       Texas       NaN   \n",
            "2         4057.0    Arkansas        Circle  San Antonio       Texas   78220.0   \n",
            "3           74.0        Debs         Point      Memphis   Tennessee   38150.0   \n",
            "4            NaN         2nd         Drive          NaN         NaN   83732.0   \n",
            "...          ...         ...           ...          ...         ...       ...   \n",
            "5995         NaN         NaN           NaN          NaN         NaN       NaN   \n",
            "5996         NaN         NaN           NaN          NaN         NaN       NaN   \n",
            "5997         NaN         NaN           NaN          NaN         NaN       NaN   \n",
            "5998         NaN         NaN           NaN          NaN         NaN       NaN   \n",
            "5999         NaN         NaN           NaN          NaN         NaN       NaN   \n",
            "\n",
            "      Unnamed: 0           purch_date  customer_num  product_num  amount  \\\n",
            "0              0  2019-01-03 00:00:00           823           27      12   \n",
            "1              1  2019-01-03 00:00:00           606           28      14   \n",
            "2              2  2019-01-03 00:00:00           955            9      17   \n",
            "3              3  2019-01-03 00:00:00           577           19       3   \n",
            "4              4  2019-01-03 00:00:00           429            8      18   \n",
            "...          ...                  ...           ...          ...     ...   \n",
            "5995        5995           06/20/2019           893           33       5   \n",
            "5996        5996           06/20/2019           566           23      11   \n",
            "5997        5997           06/20/2019           114           19       9   \n",
            "5998        5998           06/20/2019           404           11      20   \n",
            "5999        5999           06/20/2019            88           57       4   \n",
            "\n",
            "         paid  \n",
            "0     $568.92  \n",
            "1     $395.36  \n",
            "2     $510.17  \n",
            "3      $68.49  \n",
            "4     $759.42  \n",
            "...       ...  \n",
            "5995  $411.10  \n",
            "5996  $178.97  \n",
            "5997  $205.47  \n",
            "5998  $429.40  \n",
            "5999  $274.52  \n",
            "\n",
            "[6000 rows x 17 columns]\n",
            "If two datasets or tables conatains a same column then in the merge method suffix should be provided to tell them apart\n",
            " eg - suffixes=(_cust, _pur)\n"
          ]
        }
      ]
    },
    {
      "cell_type": "code",
      "source": [
        "print('Joining - Joining is aconvenient method for combining columns from two potentially \\ndifferently-indexed DataFrames into a single result DataFrame.\\nIt uses indexes to join DataFrames.')\n",
        "joined_df = customers.set_index('id').join(purchases)\n",
        "print(joined_df.head())"
      ],
      "metadata": {
        "colab": {
          "base_uri": "https://localhost:8080/"
        },
        "id": "4nwPfkDh8mma",
        "outputId": "3c585084-3b73-4e6a-ccdc-e26008b9b734"
      },
      "execution_count": 34,
      "outputs": [
        {
          "output_type": "stream",
          "name": "stdout",
          "text": [
            "Joining - Joining is aconvenient method for combining columns from two potentially \n",
            "differently-indexed DataFrames into a single result DataFrame.\n",
            "It uses indexes to join DataFrames.\n",
            "   first_name   last_name                      email  gender  street_num  \\\n",
            "id                                                                         \n",
            "1      Romain   Southcott  rsouthcott0@clickbank.net    Male         1.0   \n",
            "2      Cosimo   Molyneaux      cmolyneaux1@wiley.com    Male         NaN   \n",
            "3       Bambi     Westrip     bwestrip2@symantec.com  Female      4057.0   \n",
            "4      Roarke  Pankettman     rpankettman3@wiley.com    Male        74.0   \n",
            "5     Mikaela    Althorpe           malthorpe4@51.la     NaN         NaN   \n",
            "\n",
            "   street_name street_suffix         city       state  postcode  Unnamed: 0  \\\n",
            "id                                                                            \n",
            "1    Trailsway          Road    San Diego  California   92127.0           1   \n",
            "2          NaN           NaN      El Paso       Texas       NaN           2   \n",
            "3     Arkansas        Circle  San Antonio       Texas   78220.0           3   \n",
            "4         Debs         Point      Memphis   Tennessee   38150.0           4   \n",
            "5          2nd         Drive          NaN         NaN   83732.0           5   \n",
            "\n",
            "    id           purch_date  customer_num  product_num  amount     paid  \n",
            "id                                                                       \n",
            "1    2  2019-01-03 00:00:00           606           28      14  $395.36  \n",
            "2    3  2019-01-03 00:00:00           955            9      17  $510.17  \n",
            "3    4  2019-01-03 00:00:00           577           19       3   $68.49  \n",
            "4    5  2019-01-03 00:00:00           429            8      18  $759.42  \n",
            "5    6  2019-01-03 00:00:00           275           36      18  $176.76  \n"
          ]
        }
      ]
    }
  ]
}